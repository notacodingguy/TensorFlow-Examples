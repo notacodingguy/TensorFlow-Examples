{
  "nbformat": 4,
  "nbformat_minor": 0,
  "metadata": {
    "colab": {
      "name": "Untitled25.ipynb",
      "provenance": [],
      "authorship_tag": "ABX9TyNSgUCJ5mUTUEwwvJPokFUr",
      "include_colab_link": true
    },
    "kernelspec": {
      "name": "python3",
      "display_name": "Python 3"
    },
    "accelerator": "GPU"
  },
  "cells": [
    {
      "cell_type": "markdown",
      "metadata": {
        "id": "view-in-github",
        "colab_type": "text"
      },
      "source": [
        "<a href=\"https://colab.research.google.com/github/notacodingguy/TensorFlow-Examples/blob/master/gbmd.ipynb\" target=\"_parent\"><img src=\"https://colab.research.google.com/assets/colab-badge.svg\" alt=\"Open In Colab\"/></a>"
      ]
    },
    {
      "cell_type": "code",
      "metadata": {
        "id": "gRgvQRsgGX3R",
        "colab_type": "code",
        "colab": {
          "base_uri": "https://localhost:8080/",
          "height": 72
        },
        "outputId": "d25d439f-f1a5-4e7e-8615-3080274ec9b3"
      },
      "source": [
        "import numpy as np\n",
        "import matplotlib.pyplot as plt\n",
        "import seaborn as sns\n",
        "%matplotlib inline \n",
        "from sklearn.metrics import log_loss\n",
        "from sklearn.tree import DecisionTreeClassifier\n",
        "from sklearn.ensemble import GradientBoostingClassifier\n",
        "from sklearn.datasets import make_hastie_10_2\n",
        "from sklearn.model_selection import train_test_split\n",
        "\n",
        "def sigmoid(x):\n",
        "    return 1 / (1 + np.exp(-x))"
      ],
      "execution_count": 1,
      "outputs": [
        {
          "output_type": "stream",
          "text": [
            "/usr/local/lib/python3.6/dist-packages/statsmodels/tools/_testing.py:19: FutureWarning: pandas.util.testing is deprecated. Use the functions in the public API at pandas.testing instead.\n",
            "  import pandas.util.testing as tm\n"
          ],
          "name": "stderr"
        }
      ]
    },
    {
      "cell_type": "code",
      "metadata": {
        "id": "qEmj1O9viaRL",
        "colab_type": "code",
        "colab": {}
      },
      "source": [
        "X_all = np.random.randn(5000, 1)\n",
        "y_all = (X_all[:, 0] > 0)*2 - 1\n",
        "\n",
        "X_train, X_test, y_train, y_test = train_test_split(X_all, y_all, test_size=0.5, random_state=42)"
      ],
      "execution_count": 2,
      "outputs": []
    },
    {
      "cell_type": "code",
      "metadata": {
        "id": "6OvvOKD8iflS",
        "colab_type": "code",
        "colab": {
          "base_uri": "https://localhost:8080/",
          "height": 34
        },
        "outputId": "57de5aeb-e4b4-453d-fd29-13e9000311a9"
      },
      "source": [
        "clf = DecisionTreeClassifier(max_depth=1)\n",
        "clf.fit(X_train, y_train)\n",
        "\n",
        "print ('Accuracy for a single decision stump: {}'.format(clf.score(X_test, y_test)))"
      ],
      "execution_count": 3,
      "outputs": [
        {
          "output_type": "stream",
          "text": [
            "Accuracy for a single decision stump: 0.9996\n"
          ],
          "name": "stdout"
        }
      ]
    },
    {
      "cell_type": "code",
      "metadata": {
        "id": "lSBSJW7iioBE",
        "colab_type": "code",
        "colab": {
          "base_uri": "https://localhost:8080/",
          "height": 34
        },
        "outputId": "96ac6bfa-8c67-4952-f0b2-6c97cc580703"
      },
      "source": [
        "# For convenience we will use sklearn's GBM, the situation will be similar with XGBoost and others\n",
        "clf = GradientBoostingClassifier(n_estimators=5000, learning_rate=0.01, max_depth=3, random_state=0)\n",
        "clf.fit(X_train, y_train)\n",
        "\n",
        "y_pred = clf.predict_proba(X_test)[:, 1]\n",
        "print(\"Test logloss: {}\".format(log_loss(y_test, y_pred)))"
      ],
      "execution_count": 4,
      "outputs": [
        {
          "output_type": "stream",
          "text": [
            "Test logloss: 0.0035498450944991297\n"
          ],
          "name": "stdout"
        }
      ]
    },
    {
      "cell_type": "code",
      "metadata": {
        "id": "S6HgHZ64iqEC",
        "colab_type": "code",
        "colab": {
          "base_uri": "https://localhost:8080/",
          "height": 70
        },
        "outputId": "7e98efdc-807d-42ce-b1aa-83b1981397fb"
      },
      "source": [
        "def compute_loss(y_true, scores_pred):\n",
        "    '''\n",
        "        Since we use raw scores we will wrap log_loss \n",
        "        and apply sigmoid to our predictions before computing log_loss itself\n",
        "    '''\n",
        "    return log_loss(y_true, sigmoid(scores_pred))\n",
        "    \n",
        "\n",
        "'''\n",
        "    Get cummulative sum of *decision function* for trees. i-th element is a sum of trees 0...i-1.\n",
        "    We cannot use staged_predict_proba, since we want to maniputate raw scores\n",
        "    (not probabilities). And only in the end convert the scores to probabilities using sigmoid\n",
        "'''\n",
        "cum_preds = np.array([x for x in clf.staged_decision_function(X_test)])[:, :, 0] \n",
        "\n",
        "print (\"Logloss using all trees:           {}\".format(compute_loss(y_test, cum_preds[-1, :])))\n",
        "print (\"Logloss using all trees but last:  {}\".format(compute_loss(y_test, cum_preds[-2, :])))\n",
        "print (\"Logloss using all trees but first: {}\".format(compute_loss(y_test, cum_preds[-1, :] - cum_preds[0, :])))"
      ],
      "execution_count": 5,
      "outputs": [
        {
          "output_type": "stream",
          "text": [
            "Logloss using all trees:           0.0035498450944991297\n",
            "Logloss using all trees but last:  0.0035498450944991297\n",
            "Logloss using all trees but first: 0.0035297472306096487\n"
          ],
          "name": "stdout"
        }
      ]
    },
    {
      "cell_type": "code",
      "metadata": {
        "id": "sOkemXMhi1Vh",
        "colab_type": "code",
        "colab": {
          "base_uri": "https://localhost:8080/",
          "height": 280
        },
        "outputId": "58c47dff-46c6-4bcc-dfb8-b0956c8244cc"
      },
      "source": [
        "plt.plot(cum_preds[:, y_test == 1][:, 0])\n",
        "\n",
        "plt.xlabel('n_trees')\n",
        "plt.ylabel('Cumulative decision score');"
      ],
      "execution_count": 6,
      "outputs": [
        {
          "output_type": "display_data",
          "data": {
            "image/png": "[encoded data removed]",
            "text/plain": [
              "<Figure size 432x288 with 1 Axes>"
            ]
          },
          "metadata": {
            "tags": [],
            "needs_background": "light"
          }
        }
      ]
    },
    {
      "cell_type": "code",
      "metadata": {
        "id": "M1nVJ1rui5S_",
        "colab_type": "code",
        "colab": {
          "base_uri": "https://localhost:8080/",
          "height": 34
        },
        "outputId": "05f6a6c9-029d-4d98-fe55-d2c230c066e7"
      },
      "source": [
        "clf = GradientBoostingClassifier(n_estimators=5000, learning_rate=8, max_depth=3, random_state=0)\n",
        "clf.fit(X_train, y_train)\n",
        "y_pred = clf.predict_proba(X_test)[:, 1]\n",
        "print(\"Test logloss: {}\".format(log_loss(y_test, y_pred)))"
      ],
      "execution_count": 7,
      "outputs": [
        {
          "output_type": "stream",
          "text": [
            "Test logloss: 0.008015169072268147\n"
          ],
          "name": "stdout"
        }
      ]
    },
    {
      "cell_type": "code",
      "metadata": {
        "id": "LVxUfYtpjDvX",
        "colab_type": "code",
        "colab": {
          "base_uri": "https://localhost:8080/",
          "height": 70
        },
        "outputId": "d6e2c9ce-52c9-4928-f416-993dcf22b9ea"
      },
      "source": [
        "cum_preds = np.array([x for x in clf.staged_decision_function(X_test)])[:, :, 0] \n",
        "print (\"Logloss using all trees:           {}\".format(compute_loss(y_test, cum_preds[-1, :])))\n",
        "print (\"Logloss using all trees but last:  {}\".format(compute_loss(y_test, cum_preds[-2, :])))\n",
        "print (\"Logloss using all trees but first: {}\".format(compute_loss(y_test, cum_preds[-1, :] - cum_preds[0, :])))"
      ],
      "execution_count": 8,
      "outputs": [
        {
          "output_type": "stream",
          "text": [
            "Logloss using all trees:           0.008015169072268147\n",
            "Logloss using all trees but last:  0.004817395468639595\n",
            "Logloss using all trees but first: 2.109528174463135\n"
          ],
          "name": "stdout"
        }
      ]
    },
    {
      "cell_type": "code",
      "metadata": {
        "id": "hHBjjL5EjJuX",
        "colab_type": "code",
        "colab": {}
      },
      "source": [
        ""
      ],
      "execution_count": null,
      "outputs": []
    }
  ]
}